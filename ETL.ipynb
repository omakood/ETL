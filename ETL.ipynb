{
 "cells": [
  {
   "cell_type": "code",
   "execution_count": 14,
   "metadata": {},
   "outputs": [],
   "source": [
    "import requests\n",
    "import datetime\n",
    "import os\n",
    "\n",
    "dir = r'./year' \n",
    "\n",
    "if not os.path.exists(dir):\n",
    "    os.makedirs(dir)\n",
    "\n",
    "def fetch_air_range(station_id, date_from, date_until):\n",
    "    url = 'http://airviro.klab.ee/station/csv'\n",
    "    data = {\n",
    "        'filter[type]': 'INDICATOR',\n",
    "        'filter[cancelSearch]': '',\n",
    "        'filter[stationId]': station_id,\n",
    "        'filter[dateFrom]': date_from,\n",
    "        'filter[dateUntil]': date_until,\n",
    "        'filter[submitHit]': '1',\n",
    "        'filter[indicatorIds]': ''\n",
    "    }\n",
    "    response = requests.post(url, data)\n",
    "    return response.text\n",
    "\n",
    "def get_first_and_last_day_of_month(year, month):\n",
    "    # Get the first day of the month\n",
    "    first_day = datetime.date(year, month, 1)\n",
    "\n",
    "    # Get the number of days in the month\n",
    "    if month == 12:\n",
    "        num_days = 31\n",
    "    else:\n",
    "        num_days = (datetime.date(year, month+1, 1) - datetime.timedelta(days=1)).day\n",
    "\n",
    "    # Get the last day of the month\n",
    "    last_day = datetime.date(year, month, num_days)\n",
    "\n",
    "    return first_day, last_day\n",
    "\n",
    "for month in range(1, 13):\n",
    "    first_day, last_day = get_first_and_last_day_of_month(2022, month)\n",
    "    #print(first_day, last_day)\n",
    "\n",
    "    data = fetch_air_range(8, first_day, last_day)\n",
    "    with open(f'./year/air{month}.csv','w',encoding='utf-8-sig') as f:\n",
    "        f.write(data)\n"
   ]
  },
  {
   "cell_type": "code",
   "execution_count": 15,
   "metadata": {},
   "outputs": [],
   "source": [
    "data = []\n",
    "for month in range(1, 13):\n",
    "    with open(f'./year/air{month}.csv', 'r') as f:\n",
    "        if month == 1:\n",
    "            header = f.readline()\n",
    "            data.append(header)\n",
    "        else:\n",
    "            f.readline()\n",
    "        data.extend(f.readlines())\n",
    "\n",
    "with open('./air_2022.csv', 'w') as f:\n",
    "    f.writelines(data)\n"
   ]
  },
  {
   "cell_type": "code",
   "execution_count": 16,
   "metadata": {},
   "outputs": [],
   "source": [
    "\n",
    "for f in os.listdir(dir):\n",
    "    os.remove(os.path.join(dir, f))"
   ]
  }
 ],
 "metadata": {
  "kernelspec": {
   "display_name": "Python 3",
   "language": "python",
   "name": "python3"
  },
  "language_info": {
   "codemirror_mode": {
    "name": "ipython",
    "version": 3
   },
   "file_extension": ".py",
   "mimetype": "text/x-python",
   "name": "python",
   "nbconvert_exporter": "python",
   "pygments_lexer": "ipython3",
   "version": "3.10.2"
  },
  "orig_nbformat": 4
 },
 "nbformat": 4,
 "nbformat_minor": 2
}
